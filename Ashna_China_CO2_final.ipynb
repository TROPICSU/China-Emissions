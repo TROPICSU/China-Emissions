{
  "nbformat": 4,
  "nbformat_minor": 0,
  "metadata": {
    "colab": {
      "name": "Ashna-China_CO2-final.ipynb",
      "provenance": [],
      "collapsed_sections": []
    },
    "kernelspec": {
      "name": "python3",
      "display_name": "Python 3"
    }
  },
  "cells": [
    {
      "cell_type": "markdown",
      "metadata": {
        "id": "k6moC48lrOMI"
      },
      "source": [
        "# EDA starts here - Ashna's code starts here "
      ]
    },
    {
      "cell_type": "markdown",
      "metadata": {
        "id": "Gb99XaYhdUEB"
      },
      "source": [
        "Importing the Libraries"
      ]
    },
    {
      "cell_type": "code",
      "metadata": {
        "id": "lZX2JvI9dZ--"
      },
      "source": [
        "import numpy as np\n",
        "import pandas as pd\n",
        "import seaborn as sns\n",
        "import matplotlib.pyplot as plt"
      ],
      "execution_count": null,
      "outputs": []
    },
    {
      "cell_type": "markdown",
      "metadata": {
        "id": "xHbR9V8Ndy3k"
      },
      "source": [
        "Importing dataset"
      ]
    },
    {
      "cell_type": "code",
      "metadata": {
        "colab": {
          "base_uri": "https://localhost:8080/",
          "height": 359
        },
        "id": "Ro3eg212d16D",
        "outputId": "116db8db-d074-4e3a-ad78-32a3766a30ad"
      },
      "source": [
        "df=pd.read_csv('China-CO2.csv')\n",
        "df.head(10)"
      ],
      "execution_count": null,
      "outputs": [
        {
          "output_type": "execute_result",
          "data": {
            "text/html": [
              "<div>\n",
              "<style scoped>\n",
              "    .dataframe tbody tr th:only-of-type {\n",
              "        vertical-align: middle;\n",
              "    }\n",
              "\n",
              "    .dataframe tbody tr th {\n",
              "        vertical-align: top;\n",
              "    }\n",
              "\n",
              "    .dataframe thead th {\n",
              "        text-align: right;\n",
              "    }\n",
              "</style>\n",
              "<table border=\"1\" class=\"dataframe\">\n",
              "  <thead>\n",
              "    <tr style=\"text-align: right;\">\n",
              "      <th></th>\n",
              "      <th>year</th>\n",
              "      <th>co2</th>\n",
              "      <th>co2_growth_prct</th>\n",
              "    </tr>\n",
              "  </thead>\n",
              "  <tbody>\n",
              "    <tr>\n",
              "      <th>0</th>\n",
              "      <td>1751</td>\n",
              "      <td>0.0</td>\n",
              "      <td>NaN</td>\n",
              "    </tr>\n",
              "    <tr>\n",
              "      <th>1</th>\n",
              "      <td>1752</td>\n",
              "      <td>0.0</td>\n",
              "      <td>NaN</td>\n",
              "    </tr>\n",
              "    <tr>\n",
              "      <th>2</th>\n",
              "      <td>1753</td>\n",
              "      <td>0.0</td>\n",
              "      <td>NaN</td>\n",
              "    </tr>\n",
              "    <tr>\n",
              "      <th>3</th>\n",
              "      <td>1754</td>\n",
              "      <td>0.0</td>\n",
              "      <td>NaN</td>\n",
              "    </tr>\n",
              "    <tr>\n",
              "      <th>4</th>\n",
              "      <td>1755</td>\n",
              "      <td>0.0</td>\n",
              "      <td>NaN</td>\n",
              "    </tr>\n",
              "    <tr>\n",
              "      <th>5</th>\n",
              "      <td>1756</td>\n",
              "      <td>0.0</td>\n",
              "      <td>NaN</td>\n",
              "    </tr>\n",
              "    <tr>\n",
              "      <th>6</th>\n",
              "      <td>1757</td>\n",
              "      <td>0.0</td>\n",
              "      <td>NaN</td>\n",
              "    </tr>\n",
              "    <tr>\n",
              "      <th>7</th>\n",
              "      <td>1758</td>\n",
              "      <td>0.0</td>\n",
              "      <td>NaN</td>\n",
              "    </tr>\n",
              "    <tr>\n",
              "      <th>8</th>\n",
              "      <td>1759</td>\n",
              "      <td>0.0</td>\n",
              "      <td>NaN</td>\n",
              "    </tr>\n",
              "    <tr>\n",
              "      <th>9</th>\n",
              "      <td>1760</td>\n",
              "      <td>0.0</td>\n",
              "      <td>NaN</td>\n",
              "    </tr>\n",
              "  </tbody>\n",
              "</table>\n",
              "</div>"
            ],
            "text/plain": [
              "   year  co2  co2_growth_prct\n",
              "0  1751  0.0              NaN\n",
              "1  1752  0.0              NaN\n",
              "2  1753  0.0              NaN\n",
              "3  1754  0.0              NaN\n",
              "4  1755  0.0              NaN\n",
              "5  1756  0.0              NaN\n",
              "6  1757  0.0              NaN\n",
              "7  1758  0.0              NaN\n",
              "8  1759  0.0              NaN\n",
              "9  1760  0.0              NaN"
            ]
          },
          "metadata": {
            "tags": []
          },
          "execution_count": 2
        }
      ]
    },
    {
      "cell_type": "code",
      "metadata": {
        "colab": {
          "base_uri": "https://localhost:8080/"
        },
        "id": "GAR6J3qmeukv",
        "outputId": "cb0105e7-dffe-4a2a-cfe9-8643043ff40d"
      },
      "source": [
        "#Exploratory data analysis on dataset through different functions\n",
        "df.shape "
      ],
      "execution_count": null,
      "outputs": [
        {
          "output_type": "execute_result",
          "data": {
            "text/plain": [
              "(266, 3)"
            ]
          },
          "metadata": {
            "tags": []
          },
          "execution_count": 3
        }
      ]
    },
    {
      "cell_type": "code",
      "metadata": {
        "colab": {
          "base_uri": "https://localhost:8080/"
        },
        "id": "Miw9R9Sqe1n_",
        "outputId": "799b382a-ffa0-4c39-8882-550570ffed95"
      },
      "source": [
        "df.columns.values  # column names"
      ],
      "execution_count": null,
      "outputs": [
        {
          "output_type": "execute_result",
          "data": {
            "text/plain": [
              "array(['year', 'co2', 'co2_growth_prct'], dtype=object)"
            ]
          },
          "metadata": {
            "tags": []
          },
          "execution_count": 4
        }
      ]
    },
    {
      "cell_type": "code",
      "metadata": {
        "colab": {
          "base_uri": "https://localhost:8080/"
        },
        "id": "SVp9u8jVe77q",
        "outputId": "2cc6b64c-f93e-4c57-b92e-6561c72774fc"
      },
      "source": [
        "df.info() # to check data-type and null values in all columns"
      ],
      "execution_count": null,
      "outputs": [
        {
          "output_type": "stream",
          "text": [
            "<class 'pandas.core.frame.DataFrame'>\n",
            "RangeIndex: 266 entries, 0 to 265\n",
            "Data columns (total 3 columns):\n",
            " #   Column           Non-Null Count  Dtype  \n",
            "---  ------           --------------  -----  \n",
            " 0   year             266 non-null    int64  \n",
            " 1   co2              266 non-null    float64\n",
            " 2   co2_growth_prct  117 non-null    float64\n",
            "dtypes: float64(2), int64(1)\n",
            "memory usage: 6.4 KB\n"
          ],
          "name": "stdout"
        }
      ]
    },
    {
      "cell_type": "code",
      "metadata": {
        "colab": {
          "base_uri": "https://localhost:8080/",
          "height": 297
        },
        "id": "nQ_n1KNtfCng",
        "outputId": "06e03ef7-a914-4723-fd10-02527263e037"
      },
      "source": [
        "df.describe() #to find out mean,median , max values of each column"
      ],
      "execution_count": null,
      "outputs": [
        {
          "output_type": "execute_result",
          "data": {
            "text/html": [
              "<div>\n",
              "<style scoped>\n",
              "    .dataframe tbody tr th:only-of-type {\n",
              "        vertical-align: middle;\n",
              "    }\n",
              "\n",
              "    .dataframe tbody tr th {\n",
              "        vertical-align: top;\n",
              "    }\n",
              "\n",
              "    .dataframe thead th {\n",
              "        text-align: right;\n",
              "    }\n",
              "</style>\n",
              "<table border=\"1\" class=\"dataframe\">\n",
              "  <thead>\n",
              "    <tr style=\"text-align: right;\">\n",
              "      <th></th>\n",
              "      <th>year</th>\n",
              "      <th>co2</th>\n",
              "      <th>co2_growth_prct</th>\n",
              "    </tr>\n",
              "  </thead>\n",
              "  <tbody>\n",
              "    <tr>\n",
              "      <th>count</th>\n",
              "      <td>266.000000</td>\n",
              "      <td>266.000000</td>\n",
              "      <td>117.000000</td>\n",
              "    </tr>\n",
              "    <tr>\n",
              "      <th>mean</th>\n",
              "      <td>1884.379699</td>\n",
              "      <td>790.230011</td>\n",
              "      <td>30.084410</td>\n",
              "    </tr>\n",
              "    <tr>\n",
              "      <th>std</th>\n",
              "      <td>77.788554</td>\n",
              "      <td>2065.272934</td>\n",
              "      <td>190.764627</td>\n",
              "    </tr>\n",
              "    <tr>\n",
              "      <th>min</th>\n",
              "      <td>1751.000000</td>\n",
              "      <td>0.000000</td>\n",
              "      <td>-64.855000</td>\n",
              "    </tr>\n",
              "    <tr>\n",
              "      <th>25%</th>\n",
              "      <td>1817.250000</td>\n",
              "      <td>0.000000</td>\n",
              "      <td>1.384000</td>\n",
              "    </tr>\n",
              "    <tr>\n",
              "      <th>50%</th>\n",
              "      <td>1883.500000</td>\n",
              "      <td>0.000000</td>\n",
              "      <td>6.500000</td>\n",
              "    </tr>\n",
              "    <tr>\n",
              "      <th>75%</th>\n",
              "      <td>1951.750000</td>\n",
              "      <td>124.634000</td>\n",
              "      <td>12.862000</td>\n",
              "    </tr>\n",
              "    <tr>\n",
              "      <th>max</th>\n",
              "      <td>2018.000000</td>\n",
              "      <td>10064.690000</td>\n",
              "      <td>1961.538000</td>\n",
              "    </tr>\n",
              "  </tbody>\n",
              "</table>\n",
              "</div>"
            ],
            "text/plain": [
              "              year           co2  co2_growth_prct\n",
              "count   266.000000    266.000000       117.000000\n",
              "mean   1884.379699    790.230011        30.084410\n",
              "std      77.788554   2065.272934       190.764627\n",
              "min    1751.000000      0.000000       -64.855000\n",
              "25%    1817.250000      0.000000         1.384000\n",
              "50%    1883.500000      0.000000         6.500000\n",
              "75%    1951.750000    124.634000        12.862000\n",
              "max    2018.000000  10064.690000      1961.538000"
            ]
          },
          "metadata": {
            "tags": []
          },
          "execution_count": 6
        }
      ]
    },
    {
      "cell_type": "code",
      "metadata": {
        "colab": {
          "base_uri": "https://localhost:8080/",
          "height": 419
        },
        "id": "7xITUMxDneyg",
        "outputId": "011b4fd4-b75c-408b-989e-27d5e8afe85d"
      },
      "source": [
        "#Removing missing values from dataset 117 non null values \n",
        "df=df.dropna(axis=0,how='any')\n",
        "df"
      ],
      "execution_count": null,
      "outputs": [
        {
          "output_type": "execute_result",
          "data": {
            "text/html": [
              "<div>\n",
              "<style scoped>\n",
              "    .dataframe tbody tr th:only-of-type {\n",
              "        vertical-align: middle;\n",
              "    }\n",
              "\n",
              "    .dataframe tbody tr th {\n",
              "        vertical-align: top;\n",
              "    }\n",
              "\n",
              "    .dataframe thead th {\n",
              "        text-align: right;\n",
              "    }\n",
              "</style>\n",
              "<table border=\"1\" class=\"dataframe\">\n",
              "  <thead>\n",
              "    <tr style=\"text-align: right;\">\n",
              "      <th></th>\n",
              "      <th>year</th>\n",
              "      <th>co2</th>\n",
              "      <th>co2_growth_prct</th>\n",
              "    </tr>\n",
              "  </thead>\n",
              "  <tbody>\n",
              "    <tr>\n",
              "      <th>149</th>\n",
              "      <td>1902</td>\n",
              "      <td>0.095</td>\n",
              "      <td>0.000</td>\n",
              "    </tr>\n",
              "    <tr>\n",
              "      <th>150</th>\n",
              "      <td>1903</td>\n",
              "      <td>1.964</td>\n",
              "      <td>1961.538</td>\n",
              "    </tr>\n",
              "    <tr>\n",
              "      <th>151</th>\n",
              "      <td>1904</td>\n",
              "      <td>2.088</td>\n",
              "      <td>6.343</td>\n",
              "    </tr>\n",
              "    <tr>\n",
              "      <th>152</th>\n",
              "      <td>1905</td>\n",
              "      <td>2.297</td>\n",
              "      <td>10.000</td>\n",
              "    </tr>\n",
              "    <tr>\n",
              "      <th>153</th>\n",
              "      <td>1906</td>\n",
              "      <td>17.111</td>\n",
              "      <td>644.817</td>\n",
              "    </tr>\n",
              "    <tr>\n",
              "      <th>...</th>\n",
              "      <td>...</td>\n",
              "      <td>...</td>\n",
              "      <td>...</td>\n",
              "    </tr>\n",
              "    <tr>\n",
              "      <th>261</th>\n",
              "      <td>2014</td>\n",
              "      <td>9820.360</td>\n",
              "      <td>0.243</td>\n",
              "    </tr>\n",
              "    <tr>\n",
              "      <th>262</th>\n",
              "      <td>2015</td>\n",
              "      <td>9716.468</td>\n",
              "      <td>-1.058</td>\n",
              "    </tr>\n",
              "    <tr>\n",
              "      <th>263</th>\n",
              "      <td>2016</td>\n",
              "      <td>9704.479</td>\n",
              "      <td>-0.123</td>\n",
              "    </tr>\n",
              "    <tr>\n",
              "      <th>264</th>\n",
              "      <td>2017</td>\n",
              "      <td>9838.754</td>\n",
              "      <td>1.384</td>\n",
              "    </tr>\n",
              "    <tr>\n",
              "      <th>265</th>\n",
              "      <td>2018</td>\n",
              "      <td>10064.690</td>\n",
              "      <td>2.296</td>\n",
              "    </tr>\n",
              "  </tbody>\n",
              "</table>\n",
              "<p>117 rows × 3 columns</p>\n",
              "</div>"
            ],
            "text/plain": [
              "     year        co2  co2_growth_prct\n",
              "149  1902      0.095            0.000\n",
              "150  1903      1.964         1961.538\n",
              "151  1904      2.088            6.343\n",
              "152  1905      2.297           10.000\n",
              "153  1906     17.111          644.817\n",
              "..    ...        ...              ...\n",
              "261  2014   9820.360            0.243\n",
              "262  2015   9716.468           -1.058\n",
              "263  2016   9704.479           -0.123\n",
              "264  2017   9838.754            1.384\n",
              "265  2018  10064.690            2.296\n",
              "\n",
              "[117 rows x 3 columns]"
            ]
          },
          "metadata": {
            "tags": []
          },
          "execution_count": 7
        }
      ]
    },
    {
      "cell_type": "code",
      "metadata": {
        "colab": {
          "base_uri": "https://localhost:8080/",
          "height": 283
        },
        "id": "cTRrY7iAiwaz",
        "outputId": "687fc07c-0d42-4e5b-b0fc-7a6beb912930"
      },
      "source": [
        "#Data Visualization starts here\n",
        "#use a sb heatmap to show correlation visually\n",
        "#To check correlation in columns\n",
        "\n",
        "sns.heatmap(df.isnull(),cbar=False,yticklabels=False,cmap = 'viridis')"
      ],
      "execution_count": null,
      "outputs": [
        {
          "output_type": "execute_result",
          "data": {
            "text/plain": [
              "<matplotlib.axes._subplots.AxesSubplot at 0x7f06f6277ac8>"
            ]
          },
          "metadata": {
            "tags": []
          },
          "execution_count": 8
        },
        {
          "output_type": "display_data",
          "data": {
            "image/png": "[encoded data removed]",
            "text/plain": [
              "<Figure size 432x288 with 1 Axes>"
            ]
          },
          "metadata": {
            "tags": [],
            "needs_background": "light"
          }
        }
      ]
    },
    {
      "cell_type": "code",
      "metadata": {
        "colab": {
          "base_uri": "https://localhost:8080/",
          "height": 311
        },
        "id": "Zv5UOBxqnMvy",
        "outputId": "a19cdb61-be4d-4f35-842f-d39b607f2920"
      },
      "source": [
        "#To check correlation\n",
        "\n",
        "plt.figure(figsize=(6,4))\n",
        "sns.heatmap(df.corr(),cmap='Blues',annot=False) "
      ],
      "execution_count": null,
      "outputs": [
        {
          "output_type": "execute_result",
          "data": {
            "text/plain": [
              "<matplotlib.axes._subplots.AxesSubplot at 0x7f06ecf5b438>"
            ]
          },
          "metadata": {
            "tags": []
          },
          "execution_count": 9
        },
        {
          "output_type": "display_data",
          "data": {
            "image/png": "[encoded data removed]",
            "text/plain": [
              "<Figure size 432x288 with 2 Axes>"
            ]
          },
          "metadata": {
            "tags": [],
            "needs_background": "light"
          }
        }
      ]
    },
    {
      "cell_type": "code",
      "metadata": {
        "colab": {
          "base_uri": "https://localhost:8080/",
          "height": 402
        },
        "id": "nfUm8jD9nQdc",
        "outputId": "5a837cb4-c526-43e8-818a-1bdf21173a59"
      },
      "source": [
        "#Columns correlation matrix\n",
        "k = 3 #number of variables for heatmap\n",
        "cols = df.corr().nlargest(k, 'co2')['co2'].index\n",
        "cm = df[cols].corr()\n",
        "plt.figure(figsize=(10,6))\n",
        "sns.heatmap(cm, annot=True, cmap = 'viridis')"
      ],
      "execution_count": null,
      "outputs": [
        {
          "output_type": "execute_result",
          "data": {
            "text/plain": [
              "<matplotlib.axes._subplots.AxesSubplot at 0x7f06eca39ac8>"
            ]
          },
          "metadata": {
            "tags": []
          },
          "execution_count": 10
        },
        {
          "output_type": "display_data",
          "data": {
            "image/png": "[encoded data removed]",
            "text/plain": [
              "<Figure size 720x432 with 2 Axes>"
            ]
          },
          "metadata": {
            "tags": [],
            "needs_background": "light"
          }
        }
      ]
    },
    {
      "cell_type": "code",
      "metadata": {
        "id": "Gx0dueTK2B1O"
      },
      "source": [
        "# to ignore warnings!\n",
        "import warnings\n",
        "warnings.filterwarnings('ignore')"
      ],
      "execution_count": null,
      "outputs": []
    },
    {
      "cell_type": "code",
      "metadata": {
        "colab": {
          "base_uri": "https://localhost:8080/",
          "height": 367
        },
        "id": "uIM44GlFw6iV",
        "outputId": "bab321d2-3de9-41ad-afec-c791e16bbe04"
      },
      "source": [
        "#To check Outliers\n",
        "\n",
        "l = df.columns.values\n",
        "number_of_columns=3\n",
        "number_of_columns=int(np.ceil(np.sqrt(len(\"year', 'co2', 'co2_growth_prct\")))) # convert float value into int \n",
        "\n",
        "number_of_rows = len(l)-1/number_of_columns\n",
        "plt.figure(figsize=(number_of_columns,5*number_of_rows))\n",
        "for i in range(0,len(l)):\n",
        "    plt.subplot(number_of_rows + 1,number_of_columns,i+1)\n",
        "    sns.set_style('whitegrid')\n",
        "    sns.boxplot(df[l[i]],color='green',orient='v')\n",
        "    plt.tight_layout()"
      ],
      "execution_count": null,
      "outputs": [
        {
          "output_type": "display_data",
          "data": {
            "image/png": "[encoded data removed]",
            "text/plain": [
              "<Figure size 432x1020 with 3 Axes>"
            ]
          },
          "metadata": {
            "tags": [],
            "needs_background": "light"
          }
        }
      ]
    },
    {
      "cell_type": "code",
      "metadata": {
        "colab": {
          "base_uri": "https://localhost:8080/",
          "height": 289
        },
        "id": "-PyYSjEfwud-",
        "outputId": "d8ecda60-2308-4286-8bba-d09eb44c45ef"
      },
      "source": [
        "#To check distribution-Skewness\n",
        "\n",
        "l = df.columns.values\n",
        "number_of_columns=3\n",
        "number_of_columns=int(np.ceil(np.sqrt(len(\"year', 'co2', 'co2_growth_prct\")))) # convert float value into int \n",
        "\n",
        "plt.figure(figsize=(2*number_of_columns,5*number_of_rows))\n",
        "for i in range(0,len(l)):\n",
        "    plt.subplot(number_of_rows + 1,number_of_columns,i+1)\n",
        "    sns.distplot(df[l[i]],kde=True) "
      ],
      "execution_count": null,
      "outputs": [
        {
          "output_type": "display_data",
          "data": {
            "image/png": "[encoded data removed]",
            "text/plain": [
              "<Figure size 864x1020 with 3 Axes>"
            ]
          },
          "metadata": {
            "tags": []
          }
        }
      ]
    },
    {
      "cell_type": "code",
      "metadata": {
        "colab": {
          "base_uri": "https://localhost:8080/",
          "height": 541
        },
        "id": "be8AjbgU3BTR",
        "outputId": "87343115-a31e-474b-ece8-1234b8f15601"
      },
      "source": [
        "#Scatter plot\n",
        "#plot the scatter plot of co2 and co2 growth % variable in data\n",
        "#plt.scatter(df.co2,df.co2_growth_prct)\n",
        "#plt.show()\n",
        "\n",
        "#plot the scatter plot of balance and age variable in data\n",
        "df.plot.scatter(x=\"year\",y=\"co2\")\n",
        "plt.show()\n",
        "\n",
        "#plot the scatter plot of balance and age variable in data\n",
        "df.plot.scatter(x=\"year\",y=\"co2_growth_prct\")\n",
        "plt.show()"
      ],
      "execution_count": null,
      "outputs": [
        {
          "output_type": "display_data",
          "data": {
            "image/png": "[encoded data removed]",
            "text/plain": [
              "<Figure size 432x288 with 1 Axes>"
            ]
          },
          "metadata": {
            "tags": []
          }
        },
        {
          "output_type": "display_data",
          "data": {
            "image/png": "[encoded data removed]",
            "text/plain": [
              "<Figure size 432x288 with 1 Axes>"
            ]
          },
          "metadata": {
            "tags": []
          }
        }
      ]
    },
    {
      "cell_type": "code",
      "metadata": {
        "colab": {
          "base_uri": "https://localhost:8080/",
          "height": 204
        },
        "id": "Qp0k1IM5zu1N",
        "outputId": "db451202-9c77-4701-b619-84b511a54409"
      },
      "source": [
        "df.head()"
      ],
      "execution_count": null,
      "outputs": [
        {
          "output_type": "execute_result",
          "data": {
            "text/html": [
              "<div>\n",
              "<style scoped>\n",
              "    .dataframe tbody tr th:only-of-type {\n",
              "        vertical-align: middle;\n",
              "    }\n",
              "\n",
              "    .dataframe tbody tr th {\n",
              "        vertical-align: top;\n",
              "    }\n",
              "\n",
              "    .dataframe thead th {\n",
              "        text-align: right;\n",
              "    }\n",
              "</style>\n",
              "<table border=\"1\" class=\"dataframe\">\n",
              "  <thead>\n",
              "    <tr style=\"text-align: right;\">\n",
              "      <th></th>\n",
              "      <th>year</th>\n",
              "      <th>co2</th>\n",
              "      <th>co2_growth_prct</th>\n",
              "    </tr>\n",
              "  </thead>\n",
              "  <tbody>\n",
              "    <tr>\n",
              "      <th>149</th>\n",
              "      <td>1902</td>\n",
              "      <td>0.095</td>\n",
              "      <td>0.000</td>\n",
              "    </tr>\n",
              "    <tr>\n",
              "      <th>150</th>\n",
              "      <td>1903</td>\n",
              "      <td>1.964</td>\n",
              "      <td>1961.538</td>\n",
              "    </tr>\n",
              "    <tr>\n",
              "      <th>151</th>\n",
              "      <td>1904</td>\n",
              "      <td>2.088</td>\n",
              "      <td>6.343</td>\n",
              "    </tr>\n",
              "    <tr>\n",
              "      <th>152</th>\n",
              "      <td>1905</td>\n",
              "      <td>2.297</td>\n",
              "      <td>10.000</td>\n",
              "    </tr>\n",
              "    <tr>\n",
              "      <th>153</th>\n",
              "      <td>1906</td>\n",
              "      <td>17.111</td>\n",
              "      <td>644.817</td>\n",
              "    </tr>\n",
              "  </tbody>\n",
              "</table>\n",
              "</div>"
            ],
            "text/plain": [
              "     year     co2  co2_growth_prct\n",
              "149  1902   0.095            0.000\n",
              "150  1903   1.964         1961.538\n",
              "151  1904   2.088            6.343\n",
              "152  1905   2.297           10.000\n",
              "153  1906  17.111          644.817"
            ]
          },
          "metadata": {
            "tags": []
          },
          "execution_count": 16
        }
      ]
    },
    {
      "cell_type": "markdown",
      "metadata": {
        "id": "aJrvSWcCrJSK"
      },
      "source": [
        "End of EDA here - AAshna's code ends here"
      ]
    },
    {
      "cell_type": "markdown",
      "metadata": {
        "id": "BfgYBtE0rFRv"
      },
      "source": [
        "Naveen's code ahead "
      ]
    },
    {
      "cell_type": "code",
      "metadata": {
        "id": "mx_-1y01_34c"
      },
      "source": [
        "#plotting regression line for scatter plots\n",
        "x=[]\n",
        "y=[]\n",
        "x=df['year'].to_numpy()\n",
        "y=df['co2'].to_numpy()\n",
        "X = df.iloc[:, 1:2].values\n",
        "y1=df['co2_growth_prct'].to_numpy()\n",
        "\n",
        "  \n"
      ],
      "execution_count": null,
      "outputs": []
    },
    {
      "cell_type": "code",
      "metadata": {
        "colab": {
          "base_uri": "https://localhost:8080/",
          "height": 677
        },
        "id": "wHv6QgXH29Up",
        "outputId": "51d98e83-a2f1-4d43-9736-b077c4464771"
      },
      "source": [
        "import numpy as np \n",
        "import matplotlib.pyplot as plt \n",
        "from sklearn import metrics\n",
        "import math\n",
        "import sklearn\n",
        "  \n",
        "def estimate_coef(x, y): \n",
        "    # number of observations/points \n",
        "    n = np.size(x) \n",
        "  \n",
        "    # mean of x and y vector \n",
        "    m_x, m_y = np.mean(x), np.mean(y) \n",
        "  \n",
        "    # calculating cross-deviation and deviation about x \n",
        "    SS_xy = np.sum(y*x) - n*m_y*m_x \n",
        "    SS_xx = np.sum(x*x) - n*m_x*m_x \n",
        "  \n",
        "    # calculating regression coefficients \n",
        "    b_1 = SS_xy / SS_xx \n",
        "    b_0 = m_y - b_1*m_x \n",
        "  \n",
        "    return(b_0, b_1) \n",
        "  \n",
        "def plot_regression_line(x, y, b): \n",
        "    # plotting the actual points as scatter plot \n",
        "    plt.scatter(x, y, color = \"m\", \n",
        "               marker = \"o\", s = 30) \n",
        "  \n",
        "    # predicted response vector \n",
        "    y_pred = b[0] + b[1]*x \n",
        "  \n",
        "    # plotting the regression line \n",
        "    plt.plot(x, y_pred, color = \"g\") \n",
        "  \n",
        "    # putting labels \n",
        "    plt.xlabel('x') \n",
        "    plt.ylabel('y') \n",
        "  \n",
        "    # function to show plot \n",
        "    plt.show() \n",
        "    \n",
        "def rmse(b,y):\n",
        "    predict=[]\n",
        "    for i in range(0,117):\n",
        "        predict.append(b[0]+b[1]*x[i])\n",
        "    predict=np.array(predict)\n",
        "    mse = sklearn.metrics.mean_squared_error(y, predict)\n",
        "    return(math.sqrt(mse))\n",
        "\n",
        "  \n",
        "def main(x,y): \n",
        "    # observatio # estimating coefficients \n",
        "    b = estimate_coef(x, y) \n",
        "    print(\"Estimated coefficients:\\nb_0 = {}   \\nb_1 = {}\".format(b[0], b[1])) \n",
        "  \n",
        "    # plotting regression line \n",
        "    print(\"RMSE VALUE is\",rmse(b,y))\n",
        "    plot_regression_line(x, y, b)\n",
        "    \n",
        "if __name__ == \"__main__\": \n",
        "         main(x,y)\n",
        "         main(x,y1)\n",
        "    "
      ],
      "execution_count": null,
      "outputs": [
        {
          "output_type": "stream",
          "text": [
            "Estimated coefficients:\n",
            "b_0 = -127261.4302050189   \n",
            "b_1 = 65.84592892895174\n",
            "RMSE VALUE is 1705.0661924295737\n"
          ],
          "name": "stdout"
        },
        {
          "output_type": "display_data",
          "data": {
            "image/png": "[encoded data removed]",
            "text/plain": [
              "<Figure size 432x288 with 1 Axes>"
            ]
          },
          "metadata": {
            "tags": []
          }
        },
        {
          "output_type": "stream",
          "text": [
            "Estimated coefficients:\n",
            "b_0 = 2211.1590251914536   \n",
            "b_1 = -1.1127931708852263\n",
            "RMSE VALUE is 186.19240077291803\n"
          ],
          "name": "stdout"
        },
        {
          "output_type": "display_data",
          "data": {
            "image/png": "[encoded data removed]",
            "text/plain": [
              "<Figure size 432x288 with 1 Axes>"
            ]
          },
          "metadata": {
            "tags": []
          }
        }
      ]
    },
    {
      "cell_type": "code",
      "metadata": {
        "colab": {
          "base_uri": "https://localhost:8080/",
          "height": 677
        },
        "id": "C67nbRIc3RGB",
        "outputId": "10df51af-1a12-4bcd-d730-270dc5eb7135"
      },
      "source": [
        "import numpy as np \n",
        "import matplotlib.pyplot as plt \n",
        "from sklearn import metrics\n",
        "import math\n",
        "import sklearn\n",
        "  \n",
        "def estimate_coef(x, y): \n",
        "    # number of observations/points \n",
        "    n = np.size(x) \n",
        "  \n",
        "    # mean of x and y vector \n",
        "    m_x, m_y = np.mean(x), np.mean(y) \n",
        "  \n",
        "    # calculating cross-deviation and deviation about x \n",
        "    SS_xy = np.sum(y*x) - n*m_y*m_x \n",
        "    SS_xx = np.sum(x*x) - n*m_x*m_x \n",
        "  \n",
        "    # calculating regression coefficients \n",
        "    b_1 = SS_xy / SS_xx \n",
        "    b_0 = m_y - b_1*m_x \n",
        "  \n",
        "    return(b_0, b_1) \n",
        "  \n",
        "def plot_regression_line(x, y, b): \n",
        "    # plotting the actual points as scatter plot \n",
        "    plt.scatter(x, y, color = \"m\", \n",
        "               marker = \"o\", s = 30) \n",
        "  \n",
        "    # predicted response vector \n",
        "    y_pred = b[0] + b[1]*x \n",
        "  \n",
        "    # plotting the regression line \n",
        "    plt.plot(x, y_pred, color = \"g\") \n",
        "  \n",
        "    # putting labels \n",
        "    plt.xlabel('x') \n",
        "    plt.ylabel('y') \n",
        "  \n",
        "    # function to show plot \n",
        "    plt.show() \n",
        "    \n",
        "def rmse(b,y):\n",
        "    predict=[]\n",
        "    for i in range(0,117):\n",
        "        predict.append(b[0]+b[1]*x[i])\n",
        "    predict=np.array(predict)\n",
        "    mse = sklearn.metrics.mean_squared_error(y, predict)\n",
        "    return(math.sqrt(mse))\n",
        "\n",
        "  \n",
        "def main(x,y): \n",
        "    # observatio # estimating coefficients \n",
        "    b = estimate_coef(x, y) \n",
        "    print(\"Estimated coefficients:\\nb_0 = {}   \\nb_1 = {}\".format(b[0], b[1])) \n",
        "  \n",
        "    # plotting regression line \n",
        "    print(\"RMSE VALUE is\",rmse(b,y))\n",
        "    plot_regression_line(x, y, b)\n",
        "    \n",
        "if __name__ == \"__main__\": \n",
        "    main(x,y)\n",
        "    main(x,y1)\n",
        "    "
      ],
      "execution_count": null,
      "outputs": [
        {
          "output_type": "stream",
          "text": [
            "Estimated coefficients:\n",
            "b_0 = -127261.4302050189   \n",
            "b_1 = 65.84592892895174\n",
            "RMSE VALUE is 1705.0661924295737\n"
          ],
          "name": "stdout"
        },
        {
          "output_type": "display_data",
          "data": {
            "image/png": "[encoded data removed]",
            "text/plain": [
              "<Figure size 432x288 with 1 Axes>"
            ]
          },
          "metadata": {
            "tags": []
          }
        },
        {
          "output_type": "stream",
          "text": [
            "Estimated coefficients:\n",
            "b_0 = 2211.1590251914536   \n",
            "b_1 = -1.1127931708852263\n",
            "RMSE VALUE is 186.19240077291803\n"
          ],
          "name": "stdout"
        },
        {
          "output_type": "display_data",
          "data": {
            "image/png": "[encoded data removed]",
            "text/plain": [
              "<Figure size 432x288 with 1 Axes>"
            ]
          },
          "metadata": {
            "tags": []
          }
        }
      ]
    },
    {
      "cell_type": "code",
      "metadata": {
        "colab": {
          "base_uri": "https://localhost:8080/",
          "height": 296
        },
        "id": "_r_HPod23fy1",
        "outputId": "d8037e45-eaed-4f85-9669-1da31247d64e"
      },
      "source": [
        "# Fitting Polynomial Regression to the dataset\n",
        "from sklearn.preprocessing import PolynomialFeatures\n",
        "from sklearn.linear_model import LinearRegression\n",
        "poly_reg = PolynomialFeatures(degree=4)\n",
        "X_poly = poly_reg.fit_transform(X)\n",
        "pol_reg = LinearRegression()\n",
        "pol_reg.fit(X_poly, y)\n",
        "\n",
        "polynomial_features= PolynomialFeatures(degree=4)\n",
        "x_poly = polynomial_features.fit_transform(X)\n",
        "\n",
        "model = LinearRegression()\n",
        "model.fit(x_poly, y)\n",
        "y_poly_pred = model.predict(x_poly)\n",
        "\n",
        "rmse = np.sqrt(sklearn.metrics.mean_squared_error(y,y_poly_pred))\n",
        "\n",
        "print(\"RMSE VALUE BY polynomial METHOD CO2\",rmse)\n",
        "# Visualizing the Polymonial Regression results\n",
        "def viz_polymonial(Y):\n",
        "    plt.scatter(X,Y, color='red')\n",
        "    plt.plot(X, pol_reg.predict(poly_reg.fit_transform(X)), color='blue')\n",
        "    plt.xlabel('year')\n",
        "    plt.ylabel('co2')\n",
        "    plt.show()\n",
        "    return\n",
        "viz_polymonial(y)"
      ],
      "execution_count": null,
      "outputs": [
        {
          "output_type": "stream",
          "text": [
            "RMSE VALUE BY polynomial METHOD CO2 0.12246948159522618\n"
          ],
          "name": "stdout"
        },
        {
          "output_type": "display_data",
          "data": {
            "image/png": "[encoded data removed]",
            "text/plain": [
              "<Figure size 432x288 with 1 Axes>"
            ]
          },
          "metadata": {
            "tags": []
          }
        }
      ]
    },
    {
      "cell_type": "code",
      "metadata": {
        "colab": {
          "base_uri": "https://localhost:8080/",
          "height": 296
        },
        "id": "BjRtqBJY3wp3",
        "outputId": "42dafdaf-f3bd-4c69-81fa-a74e7fd500d0"
      },
      "source": [
        "from sklearn.metrics import mean_squared_error\n",
        "poly_reg = PolynomialFeatures(degree=4)\n",
        "X_poly = poly_reg.fit_transform(X)\n",
        "pol_reg = LinearRegression()\n",
        "pol_reg.fit(X_poly, y1)\n",
        "\n",
        "# Visualizing the Polymonial Regression results\n",
        "viz_polymonial(y1)\n",
        "\n",
        "\n",
        "polynomial_features= PolynomialFeatures(degree=4)\n",
        "x_poly = polynomial_features.fit_transform(X)\n",
        "\n",
        "model = LinearRegression()\n",
        "model.fit(x_poly, y1)\n",
        "y_poly_pred = model.predict(x_poly)\n",
        "\n",
        "rmse = np.sqrt(mean_squared_error(y1,y_poly_pred))\n",
        "\n",
        "print(\"RMSE VALUE BY Polynomial METHOD CO2 growth :\",rmse)"
      ],
      "execution_count": null,
      "outputs": [
        {
          "output_type": "display_data",
          "data": {
            "image/png": "[encoded data removed]",
            "text/plain": [
              "<Figure size 432x288 with 1 Axes>"
            ]
          },
          "metadata": {
            "tags": []
          }
        },
        {
          "output_type": "stream",
          "text": [
            "RMSE VALUE BY Polynomial METHOD CO2 growth : 188.16690624817068\n"
          ],
          "name": "stdout"
        }
      ]
    },
    {
      "cell_type": "code",
      "metadata": {
        "colab": {
          "base_uri": "https://localhost:8080/"
        },
        "id": "zjW6Qe5y4Ca1",
        "outputId": "befa770a-2857-43c5-91d6-460d76122315"
      },
      "source": [
        "log_x_data = np.log(x)\n",
        "log_y_data = np.log(y)\n",
        "\n",
        "curve_fit = np.polyfit(x, log_y_data, 1)\n",
        "print(curve_fit)"
      ],
      "execution_count": null,
      "outputs": [
        {
          "output_type": "stream",
          "text": [
            "[ 6.85391348e-02 -1.28668223e+02]\n"
          ],
          "name": "stdout"
        }
      ]
    },
    {
      "cell_type": "code",
      "metadata": {
        "colab": {
          "base_uri": "https://localhost:8080/",
          "height": 284
        },
        "id": "Cov4Mqji4FLl",
        "outputId": "01867c33-d7be-435c-a3d8-9f1e9c0633e7"
      },
      "source": [
        "ye = np.exp(-1.28668223e+02) * np.exp(6.85391348e-02*x)\n",
        "plt.plot(x, y, \"o\")\n",
        "plt.plot(x, ye)"
      ],
      "execution_count": null,
      "outputs": [
        {
          "output_type": "execute_result",
          "data": {
            "text/plain": [
              "[<matplotlib.lines.Line2D at 0x7f06eaa97f60>]"
            ]
          },
          "metadata": {
            "tags": []
          },
          "execution_count": 23
        },
        {
          "output_type": "display_data",
          "data": {
            "image/png": "[encoded data removed]",
            "text/plain": [
              "<Figure size 432x288 with 1 Axes>"
            ]
          },
          "metadata": {
            "tags": []
          }
        }
      ]
    }
  ]
}